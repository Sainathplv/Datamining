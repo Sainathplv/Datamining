{
 "cells": [
  {
   "cell_type": "code",
   "execution_count": null,
   "id": "513575e4",
   "metadata": {},
   "outputs": [],
   "source": [
    "# Data Mining Assignment 1"
   ]
  },
  {
   "cell_type": "markdown",
   "id": "4e6ed629",
   "metadata": {},
   "source": [
    "## Student Details\n",
    "\n",
    "Student Name and ID of the member submitting the assignment: Harshith Pashikanti, 1001974588\n",
    "\n",
    "Student Name and ID of the remaining members: Venkata Sainath Reddy Palavala, 1001949223\n",
    "\n",
    "Notes:\n",
    "When submitting, fill your name and ID in this cell. Note that this is a markdown cell!<br>\n",
    "Do not make any changes in the dataset file and do not rename the 'database.csv'.\n",
    "<br> Rename your submission file to <b> 'yourLastName_Last4digitsofyourID_PA1.ipynb' </b>. \n",
    "<br> Do not to forget to cite any external sources used by you. \n",
    "**5 points per question will be deducted incase you fail to do so**\n",
    "<br>**DO NOT DELETE THIS CELL**<br>"
   ]
  },
  {
   "cell_type": "markdown",
   "id": "c7616a85",
   "metadata": {},
   "source": [
    "## Assignment Details\n",
    "\n",
    "In this assignment, you will conduct a guided exploration over the given dataset.\n",
    "\n",
    "You will prepare a **report** with the following outline for each one of the dataset. Look at the following Example.\n",
    "\n",
    "1.\tIntroduction\n",
    "\n",
    "2.\tRetrieving the Data\n",
    "\n",
    "3.\tGlimpse of Data\n",
    "\n",
    "4.\tCheck for missing data\n",
    "\n",
    "5.\tData Exploration\n",
    "\n",
    "\n",
    "You will learn and use some of the most common exploration/aggregation/descriptive operations. This should also help you learn most of the key functionalities in Python/Pandas, Weka and R. DO Task 1, Task 2, Task 3, Task 4 using Python/Pandas, Weka, R\n",
    " \n",
    "**Out of the 3 datasets listed below:**\n",
    "\n",
    "**1. Weather dataset should be solved using Python in Jupyter notebook only.**\n",
    "\n",
    "**2. Surgical dataset using WEKA**\n",
    "\n",
    "**3. Healthcare_stroke_dataset using R**\n",
    "\n",
    "\n",
    "You will also learn how to use visualization libraries to identify patterns in data that will help in your further data analysis. You will also explore most popular chart types and how to use different libraries and styles to make your visualizations more attractive.\n",
    "\n",
    "**Each code visualization and plotted needs to be explained in the 4 to 5 lines**"
   ]
  },
  {
   "cell_type": "markdown",
   "id": "0dfaa707",
   "metadata": {},
   "source": [
    "# Dataset Details\n",
    "\n",
    "In this assignment, you will work on 1) \n",
    "weather_dataset.csv\n",
    "The columns of the data-set are:\n",
    "\n",
    "* Date\n",
    "* Time\n",
    "* Temp Humidity Index   \n",
    "* Outside Temperature\n",
    "* WindChill\n",
    "* Hi Temperature\n",
    "* Low Temperature\n",
    "* Outside Humidity\n",
    "* DewPoint\n",
    "* WindSpeed\n",
    "* Hi\n",
    "* Wind Direction\n",
    "* Rain\n",
    "* Barometer\n",
    "* Inside  Temperature\n",
    "* Inside  Humidity\n",
    "* ArchivePeriod"
   ]
  },
  {
   "cell_type": "markdown",
   "id": "39b98b09",
   "metadata": {},
   "source": [
    "## Required Python Packages\n",
    "You will only use the packages imported below in this assignment. \n",
    "<br>**Do NOT import any new packages without confirming with the TA.**\n",
    "<br>20 points will be deducted from the assignment if any library is used except provided below."
   ]
  },
  {
   "cell_type": "code",
   "execution_count": 74,
   "id": "c424b546",
   "metadata": {},
   "outputs": [],
   "source": [
    "# special IPython command to prepare the notebook for matplotlib\n",
    "%matplotlib inline \n",
    "\n",
    "#Array processing\n",
    "import numpy as np\n",
    "#Data analysis, wrangling and common exploratory operations\n",
    "import pandas as pd\n",
    "import datetime\n",
    "from pandas import Series, DataFrame\n",
    "from itertools import chain\n",
    "\n",
    "#For visualization. Matplotlib for basic viz and seaborn for more stylish figures\n",
    "import matplotlib.pyplot as plt\n",
    "import seaborn as sns\n"
   ]
  },
  {
   "cell_type": "markdown",
   "id": "f859bf04",
   "metadata": {},
   "source": [
    "# Reading Dataset\n",
    "The Python code below reads the weather dataset into a Pandas data frame with the name df_data. \n",
    "For this code to work, the file 'database.csv' must be in the same folder as this file."
   ]
  },
  {
   "cell_type": "code",
   "execution_count": 130,
   "id": "5543d412",
   "metadata": {},
   "outputs": [
    {
     "data": {
      "text/html": [
       "<div>\n",
       "<style scoped>\n",
       "    .dataframe tbody tr th:only-of-type {\n",
       "        vertical-align: middle;\n",
       "    }\n",
       "\n",
       "    .dataframe tbody tr th {\n",
       "        vertical-align: top;\n",
       "    }\n",
       "\n",
       "    .dataframe thead th {\n",
       "        text-align: right;\n",
       "    }\n",
       "</style>\n",
       "<table border=\"1\" class=\"dataframe\">\n",
       "  <thead>\n",
       "    <tr style=\"text-align: right;\">\n",
       "      <th></th>\n",
       "      <th>Date</th>\n",
       "      <th>Time</th>\n",
       "      <th>Temp Humidity Index</th>\n",
       "      <th>Outside Temperature</th>\n",
       "      <th>WindChill</th>\n",
       "      <th>Hi Temperature</th>\n",
       "      <th>Low Temperature</th>\n",
       "      <th>Outside Humidity</th>\n",
       "      <th>DewPoint</th>\n",
       "      <th>WindSpeed</th>\n",
       "      <th>Hi</th>\n",
       "      <th>Wind Direction</th>\n",
       "      <th>Rain</th>\n",
       "      <th>Barometer</th>\n",
       "      <th>Inside  Temperature</th>\n",
       "      <th>Inside  Humidity</th>\n",
       "      <th>ArchivePeriod</th>\n",
       "    </tr>\n",
       "  </thead>\n",
       "  <tbody>\n",
       "    <tr>\n",
       "      <th>0</th>\n",
       "      <td>31/05/2006</td>\n",
       "      <td>9:00</td>\n",
       "      <td>9.3</td>\n",
       "      <td>9.3</td>\n",
       "      <td>9.3</td>\n",
       "      <td>9.7</td>\n",
       "      <td>9.1</td>\n",
       "      <td>55</td>\n",
       "      <td>0.8</td>\n",
       "      <td>1</td>\n",
       "      <td>7</td>\n",
       "      <td>NNW</td>\n",
       "      <td>0.0</td>\n",
       "      <td>1015.4</td>\n",
       "      <td>21.7</td>\n",
       "      <td>38</td>\n",
       "      <td>10</td>\n",
       "    </tr>\n",
       "    <tr>\n",
       "      <th>1</th>\n",
       "      <td>31/05/2006</td>\n",
       "      <td>9:10</td>\n",
       "      <td>10.1</td>\n",
       "      <td>10.1</td>\n",
       "      <td>10.1</td>\n",
       "      <td>10.4</td>\n",
       "      <td>9.7</td>\n",
       "      <td>53</td>\n",
       "      <td>0.9</td>\n",
       "      <td>2</td>\n",
       "      <td>5</td>\n",
       "      <td>NE</td>\n",
       "      <td>0.0</td>\n",
       "      <td>1015.3</td>\n",
       "      <td>21.9</td>\n",
       "      <td>38</td>\n",
       "      <td>10</td>\n",
       "    </tr>\n",
       "    <tr>\n",
       "      <th>2</th>\n",
       "      <td>31/05/2006</td>\n",
       "      <td>9:20</td>\n",
       "      <td>10.7</td>\n",
       "      <td>10.7</td>\n",
       "      <td>10.7</td>\n",
       "      <td>11.0</td>\n",
       "      <td>10.4</td>\n",
       "      <td>52</td>\n",
       "      <td>1.3</td>\n",
       "      <td>2</td>\n",
       "      <td>5</td>\n",
       "      <td>NE</td>\n",
       "      <td>0.0</td>\n",
       "      <td>1015.3</td>\n",
       "      <td>22.1</td>\n",
       "      <td>39</td>\n",
       "      <td>10</td>\n",
       "    </tr>\n",
       "    <tr>\n",
       "      <th>3</th>\n",
       "      <td>31/05/2006</td>\n",
       "      <td>9:30</td>\n",
       "      <td>11.2</td>\n",
       "      <td>11.2</td>\n",
       "      <td>11.2</td>\n",
       "      <td>11.3</td>\n",
       "      <td>10.9</td>\n",
       "      <td>52</td>\n",
       "      <td>1.7</td>\n",
       "      <td>1</td>\n",
       "      <td>3</td>\n",
       "      <td>NNW</td>\n",
       "      <td>0.0</td>\n",
       "      <td>1015.2</td>\n",
       "      <td>22.2</td>\n",
       "      <td>38</td>\n",
       "      <td>10</td>\n",
       "    </tr>\n",
       "    <tr>\n",
       "      <th>4</th>\n",
       "      <td>31/05/2006</td>\n",
       "      <td>9:40</td>\n",
       "      <td>11.4</td>\n",
       "      <td>11.4</td>\n",
       "      <td>11.4</td>\n",
       "      <td>11.6</td>\n",
       "      <td>11.3</td>\n",
       "      <td>51</td>\n",
       "      <td>1.7</td>\n",
       "      <td>2</td>\n",
       "      <td>6</td>\n",
       "      <td>E</td>\n",
       "      <td>0.0</td>\n",
       "      <td>1015.2</td>\n",
       "      <td>22.3</td>\n",
       "      <td>38</td>\n",
       "      <td>10</td>\n",
       "    </tr>\n",
       "  </tbody>\n",
       "</table>\n",
       "</div>"
      ],
      "text/plain": [
       "         Date  Time  Temp Humidity Index     Outside Temperature  WindChill  \\\n",
       "0  31/05/2006  9:00                     9.3                  9.3        9.3   \n",
       "1  31/05/2006  9:10                    10.1                 10.1       10.1   \n",
       "2  31/05/2006  9:20                    10.7                 10.7       10.7   \n",
       "3  31/05/2006  9:30                    11.2                 11.2       11.2   \n",
       "4  31/05/2006  9:40                    11.4                 11.4       11.4   \n",
       "\n",
       "   Hi Temperature  Low Temperature  Outside Humidity  DewPoint  WindSpeed  Hi  \\\n",
       "0             9.7              9.1                55       0.8          1   7   \n",
       "1            10.4              9.7                53       0.9          2   5   \n",
       "2            11.0             10.4                52       1.3          2   5   \n",
       "3            11.3             10.9                52       1.7          1   3   \n",
       "4            11.6             11.3                51       1.7          2   6   \n",
       "\n",
       "  Wind Direction  Rain  Barometer  Inside  Temperature  Inside  Humidity  \\\n",
       "0            NNW   0.0     1015.4                 21.7                38   \n",
       "1             NE   0.0     1015.3                 21.9                38   \n",
       "2             NE   0.0     1015.3                 22.1                39   \n",
       "3            NNW   0.0     1015.2                 22.2                38   \n",
       "4              E   0.0     1015.2                 22.3                38   \n",
       "\n",
       "   ArchivePeriod  \n",
       "0             10  \n",
       "1             10  \n",
       "2             10  \n",
       "3             10  \n",
       "4             10  "
      ]
     },
     "execution_count": 130,
     "metadata": {},
     "output_type": "execute_result"
    }
   ],
   "source": [
    "#read the csv file into a Pandas data frame\n",
    "df_data = pd.read_csv('Weatherdataset.csv', encoding='latin1')\n",
    "\n",
    "#return the first 5 rows of the dataset\n",
    "df_data.head(5)"
   ]
  },
  {
   "cell_type": "markdown",
   "id": "a9538476",
   "metadata": {},
   "source": [
    "# Task 1: Statistical Exploratory Data Analysis\n",
    "Let us start with getting know the dataset. Your first task will be to get some basic information by using Pandas features."
   ]
  },
  {
   "cell_type": "code",
   "execution_count": 17,
   "id": "d283dcc6",
   "metadata": {
    "scrolled": true
   },
   "outputs": [
    {
     "name": "stdout",
     "output_type": "stream",
     "text": [
      "Task 1-a: Details of df_data data frame are: \n",
      " No. of Rows:  4463 \n",
      " No. of Columns: 17 \n",
      " Name of columns: \n",
      " ['Date', 'Time', 'Temp Humidity Index   ', 'Outside Temperature', 'WindChill', 'Hi Temperature', 'Low Temperature', 'Outside Humidity', 'DewPoint', 'WindSpeed', 'Hi', 'Wind Direction', 'Rain', 'Barometer', 'Inside  Temperature', 'Inside  Humidity', 'ArchivePeriod']\n"
     ]
    }
   ],
   "source": [
    "#Task 1-a: Print the details of the df_data data frame (information such as number of rows,columns, name of columns, etc)\n",
    "print (\"Task 1-a: Details of df_data data frame are: \\n\", \"No. of Rows: \", len(df_data.index), \"\\n No. of Columns:\", len(df_data.columns),\"\\n Name of columns: \\n\", list(df_data))\n"
   ]
  },
  {
   "cell_type": "code",
   "execution_count": 5,
   "id": "110d67de",
   "metadata": {},
   "outputs": [
    {
     "name": "stdout",
     "output_type": "stream",
     "text": [
      "\n",
      "Task 1-b: Number of rows:%s and number of columns:%s \n",
      "No. of Rows:  4463 \n",
      "No. of Columns: 17\n"
     ]
    }
   ],
   "source": [
    "#Task 1-b: Find the number of rows and columns in the df_data data frame.\n",
    "print (\"\\nTask 1-b: Number of rows:%s and number of columns:%s\", \"\\nNo. of Rows: \", (df_data.shape[0]),\"\\nNo. of Columns:\",df_data.shape[1] ) \n"
   ]
  },
  {
   "cell_type": "code",
   "execution_count": 6,
   "id": "32aeb8bd",
   "metadata": {},
   "outputs": [
    {
     "name": "stdout",
     "output_type": "stream",
     "text": [
      "Task 1-c: Descriptive details of 'Wind Direction' column are\n",
      " \n",
      " Count of Wind Direction column is: 4463 \n",
      " Unique values in the Wind Direction column are:  ['NNW' 'NE' 'E' 'S' 'SE' 'WNW' 'SSW' 'SW' 'W' 'NNE' 'N' 'WSW' 'ESE' 'NW'\n",
      " 'ENE' '---' 'SSE'] \n",
      " Top value in the Wind Direction is:  WSW \n",
      " Frequent values of Wind Direction are:  0    SSW\n",
      "dtype: object\n"
     ]
    }
   ],
   "source": [
    "#Task 1-c: Print the descriptive detail (count, unique, top, freq etc) for 'Wind Direction' column of the df_data\n",
    "\n",
    "print (\"Task 1-c: Descriptive details of 'Wind Direction' column are\\n\",\n",
    "\"\\n Count of Wind Direction column is:\", len(df_data['Wind Direction'].index),\n",
    "\"\\n Unique values in the Wind Direction column are: \", df_data['Wind Direction'].unique(),\n",
    "\"\\n Top value in the Wind Direction is: \", df_data['Wind Direction'].max(),\n",
    "\"\\n Frequent values of Wind Direction are: \", df_data['Wind Direction'].mode()\n",
    " )"
   ]
  },
  {
   "cell_type": "code",
   "execution_count": 7,
   "id": "d15e8981",
   "metadata": {
    "scrolled": true
   },
   "outputs": [
    {
     "name": "stdout",
     "output_type": "stream",
     "text": [
      "Task 1-d: The average temp for each day: Date\n",
      "1/6/2006      12.520139\n",
      "1/7/2006      11.605556\n",
      "10/6/2006     13.595139\n",
      "11/6/2006     16.884722\n",
      "12/6/2006     15.029861\n",
      "13/06/2006    13.838889\n",
      "14/06/2006    12.810417\n",
      "15/06/2006    15.224306\n",
      "16/06/2006    15.126389\n",
      "17/06/2006    15.547222\n",
      "18/06/2006    14.267361\n",
      "19/06/2006    13.454167\n",
      "2/6/2006      12.960417\n",
      "20/06/2006    11.600000\n",
      "21/06/2006    10.246528\n",
      "22/06/2006    12.647917\n",
      "23/06/2006    12.529167\n",
      "24/06/2006    12.902797\n",
      "25/06/2006    11.951389\n",
      "26/06/2006    11.690278\n",
      "27/06/2006    13.687500\n",
      "28/06/2006    14.739583\n",
      "29/06/2006    15.716667\n",
      "3/6/2006      12.840278\n",
      "30/06/2006    14.709722\n",
      "31/05/2006    11.950000\n",
      "4/6/2006      12.013889\n",
      "5/6/2006      12.186806\n",
      "6/6/2006      16.304167\n",
      "7/6/2006      14.219444\n",
      "8/6/2006      15.315278\n",
      "9/6/2006      12.748611\n",
      "Name: Outside Temperature, dtype: float64\n"
     ]
    }
   ],
   "source": [
    "#Task 1-d: Print the average temp for each day\n",
    "print(\"Task 1-d: The average temp for each day:\", df_data.groupby('Date')['Outside Temperature'].mean())\n"
   ]
  },
  {
   "cell_type": "code",
   "execution_count": 5,
   "id": "a093be05",
   "metadata": {},
   "outputs": [
    {
     "name": "stdout",
     "output_type": "stream",
     "text": [
      "Task 1-e: The average temp for each Week:\n",
      "              0  week\n",
      "week                 \n",
      "1     12.266919   1.0\n",
      "6     12.963542   6.0\n",
      "10    12.836806  10.0\n",
      "14    12.006944  14.0\n",
      "18    12.186111  18.0\n",
      "22    11.954444  22.0\n",
      "23    16.305556  23.0\n",
      "24    14.470486  24.0\n",
      "25    12.189672  25.0\n",
      "26    14.108750  26.0\n",
      "27    14.219097  27.0\n",
      "31    15.317014  31.0\n",
      "36    12.753472  36.0\n",
      "40    13.592361  40.0\n",
      "45    16.881944  45.0\n",
      "49    15.031944  49.0\n"
     ]
    }
   ],
   "source": [
    "#Task 1-e: Print the average temp for each week\n",
    "\n",
    "# df_data['Date'] = pd.to_datetime(df_data['Date'])\n",
    "# df_data['df_data7D']=df_data.groupby('Time')['Outside Temperature'].transform(lambda x: x.rolling('7D').mean())\n",
    "# print( df_data.mean(axis = 0, skipna = True))\n",
    "\n",
    "df_data['Date'] = pd.to_datetime(df_data['Date'])\n",
    "df_data['week'] = df_data['Date'].dt.isocalendar().week\n",
    "df1 = (df_data[\"Hi Temperature\"]+df_data[\"Low Temperature\"])/2\n",
    "df2 = (df_data[\"week\"])\n",
    "frames = [df1, df2]\n",
    "result2 = pd.concat(frames, axis=1, join='inner')\n",
    "result3=result2.groupby(df_data['week']).mean()\n",
    "print(\"Task 1-e: The average temp for each Week:\")\n",
    "print(result3)"
   ]
  },
  {
   "cell_type": "code",
   "execution_count": 57,
   "id": "aef64daf",
   "metadata": {
    "scrolled": false
   },
   "outputs": [
    {
     "name": "stdout",
     "output_type": "stream",
     "text": [
      "Task 1-f: Maximum temperature difference each day for all the days of the months: Date\n",
      "1/6/2006       8.6\n",
      "1/7/2006       6.4\n",
      "10/6/2006      9.8\n",
      "11/6/2006     10.7\n",
      "12/6/2006      7.6\n",
      "13/06/2006     7.9\n",
      "14/06/2006     7.4\n",
      "15/06/2006    13.4\n",
      "16/06/2006     6.1\n",
      "17/06/2006     6.5\n",
      "18/06/2006     2.2\n",
      "19/06/2006     7.1\n",
      "2/6/2006       9.5\n",
      "20/06/2006     9.0\n",
      "21/06/2006     3.5\n",
      "22/06/2006     6.5\n",
      "23/06/2006     6.8\n",
      "24/06/2006     7.6\n",
      "25/06/2006     6.4\n",
      "26/06/2006     8.6\n",
      "27/06/2006     8.0\n",
      "28/06/2006    15.0\n",
      "29/06/2006     5.3\n",
      "3/6/2006      12.4\n",
      "30/06/2006     4.2\n",
      "31/05/2006     7.1\n",
      "4/6/2006      10.7\n",
      "5/6/2006       7.0\n",
      "6/6/2006      15.3\n",
      "7/6/2006      10.0\n",
      "8/6/2006      11.1\n",
      "9/6/2006       8.6\n",
      "Name: Outside Temperature, dtype: float64\n"
     ]
    }
   ],
   "source": [
    "#Task 1-f: What is the maximum temperature difference each day for all the days of the months?\n",
    "print(\"Task 1-f: Maximum temperature difference each day for all the days of the months:\", \n",
    "df_data.groupby('Date')['Outside Temperature'].max()-df_data.groupby('Date')['Outside Temperature'].min())"
   ]
  },
  {
   "cell_type": "code",
   "execution_count": 51,
   "id": "ef6fa8ff",
   "metadata": {},
   "outputs": [
    {
     "name": "stdout",
     "output_type": "stream",
     "text": [
      "Task 1-h: Minium temperature difference each day for all the days of the months: Date\n",
      "1     0.0\n",
      "2     0.0\n",
      "3     0.0\n",
      "4     0.0\n",
      "5     0.0\n",
      "6     0.0\n",
      "7     0.0\n",
      "8     0.0\n",
      "9     0.0\n",
      "10    0.0\n",
      "11    0.0\n",
      "12    0.0\n",
      "Name: Temp Differ, dtype: float64\n"
     ]
    }
   ],
   "source": [
    "# 1 points\n",
    "#Task 1-h: What is the minium temperature difference each day for all the days of the months?\n",
    "df_data['Temp Differ'] = (df_data[\"Hi Temperature\"] - df_data[\"Low Temperature\"])\n",
    "dfMmin = df_data['Temp Differ'].groupby(pd.DatetimeIndex(df_data['Date']).month).min()\n",
    "print(\"Task 1-h: Minium temperature difference each day for all the days of the months:\", dfMmin)"
   ]
  },
  {
   "cell_type": "code",
   "execution_count": 9,
   "id": "115ee7b2",
   "metadata": {
    "scrolled": true
   },
   "outputs": [
    {
     "name": "stdout",
     "output_type": "stream",
     "text": [
      "Task 1-i: The unique values for each column are:\n",
      "['31/05/2006', '1/6/2006', '2/6/2006', '3/6/2006', '4/6/2006', '5/6/2006', '6/6/2006', '7/6/2006', '8/6/2006', '9/6/2006', '10/6/2006', '11/6/2006', '12/6/2006', '13/06/2006', '14/06/2006', '15/06/2006', '16/06/2006', '17/06/2006', '18/06/2006', '19/06/2006', '20/06/2006', '21/06/2006', '22/06/2006', '23/06/2006', '24/06/2006', '25/06/2006', '26/06/2006', '27/06/2006', '28/06/2006', '29/06/2006', '30/06/2006', '1/7/2006']\n",
      "['9:00', '9:10', '9:20', '9:30', '9:40', '9:50', '10:00', '10:10', '10:20', '10:30', '10:40', '10:50', '11:00', '11:10', '11:20', '11:30', '11:40', '11:50', '12:00', '12:10', '12:20', '12:30', '12:40', '12:50', '13:00', '13:10', '13:20', '13:30', '13:40', '13:50', '14:00', '14:10', '14:20', '14:30', '14:40', '14:50', '15:00', '15:10', '15:20', '15:30', '15:40', '15:50', '16:00', '16:10', '16:20', '16:30', '16:40', '16:50', '17:00', '17:10', '17:20', '17:30', '17:40', '17:50', '18:00', '18:10', '18:20', '18:30', '18:40', '18:50', '19:00', '19:10', '19:20', '19:30', '19:40', '19:50', '20:00', '20:10', '20:20', '20:30', '20:40', '20:50', '21:00', '21:10', '21:20', '21:30', '21:40', '21:50', '22:00', '22:10', '22:20', '22:30', '22:40', '22:50', '23:00', '23:10', '23:20', '23:30', '23:40', '23:50', '0:00', '0:10', '0:20', '0:30', '0:40', '0:50', '1:00', '1:10', '1:20', '1:30', '1:40', '1:50', '2:00', '2:10', '2:20', '2:30', '2:40', '2:50', '3:00', '3:10', '3:20', '3:30', '3:40', '3:50', '4:00', '4:10', '4:20', '4:30', '4:40', '4:50', '5:00', '5:10', '5:20', '5:30', '5:40', '5:50', '6:00', '6:10', '6:20', '6:30', '6:40', '6:50', '7:00', '7:10', '7:20', '7:30', '7:40', '7:50', '8:00', '8:10', '8:20', '8:30', '8:40', '8:50']\n",
      "[9.3, 10.1, 10.7, 11.2, 11.4, 11.8, 12.2, 12.8, 13.3, 13.7, 13.8, 13.6, 13.2, 13.1, 13.4, 13.9, 14.1, 14.3, 14.6, 14.9, 15.1, 15.4, 15.5, 15.2, 14.8, 14.5, 14.7, 14.0, 12.9, 13.0, 12.4, 11.1, 10.9, 10.5, 10.2, 10.0, 9.8, 9.6, 9.4, 9.2, 9.0, 8.8, 8.7, 8.6, 8.5, 8.4, 9.5, 9.7, 9.9, 10.3, 10.4, 10.6, 11.3, 11.5, 11.6, 12.1, 12.3, 12.5, 12.7, 14.2, 14.4, 15.6, 15.9, 16.0, 16.3, 16.6, 16.1, 16.7, 17.1, 17.2, 17.0, 16.8, 16.2, 15.8, 15.7, 15.3, 15.0, 12.6, 11.0, 10.8, 8.9, 8.3, 8.2, 9.1, 13.5, 16.4, 16.9, 17.5, 17.7, 17.6, 17.4, 17.3, 16.5, 8.1, 7.9, 7.8, 7.7, 7.6, 7.4, 7.3, 7.2, 7.5, 11.9, 18.0, 18.3, 18.1, 17.8, 17.9, 18.4, 18.6, 18.8, 19.1, 19.3, 19.5, 19.6, 19.4, 19.2, 19.0, 18.9, 18.7, 11.7, 8.0, 12.0, 19.8, 19.9, 20.0, 20.6, 21.1, 21.7, 22.2, 22.8, 23.3, 21.9, 21.8, 20.9, 20.8, 20.7, 20.1, 20.3, 19.7, 18.2, 20.4, 20.2, 18.5, 21.0, 7.1, 6.9, 6.7, 6.6, 6.4, 6.5]\n",
      "[9.3, 10.1, 10.7, 11.2, 11.4, 11.8, 12.2, 12.8, 13.3, 13.7, 13.8, 13.6, 13.2, 13.1, 13.4, 13.9, 14.1, 14.3, 14.6, 14.9, 15.1, 15.4, 15.5, 15.2, 14.8, 14.5, 14.7, 14.0, 12.9, 13.0, 12.4, 11.1, 10.9, 10.5, 10.2, 10.0, 9.8, 9.6, 9.4, 9.2, 9.0, 8.8, 8.7, 8.6, 8.5, 8.4, 9.5, 9.7, 9.9, 10.3, 10.4, 10.6, 11.3, 11.5, 11.6, 12.1, 12.3, 12.5, 12.7, 14.2, 14.4, 15.6, 15.9, 16.0, 16.3, 16.6, 16.1, 16.7, 17.1, 17.2, 17.0, 16.8, 16.2, 15.8, 15.7, 15.3, 15.0, 12.6, 11.0, 10.8, 8.9, 8.3, 8.2, 9.1, 13.5, 16.4, 16.9, 17.5, 17.7, 17.6, 17.4, 17.3, 16.5, 8.1, 7.9, 7.8, 7.7, 7.6, 7.4, 7.3, 7.2, 7.5, 11.9, 18.0, 18.3, 18.1, 17.8, 17.9, 18.4, 18.6, 18.8, 19.1, 19.3, 19.5, 19.6, 19.4, 19.2, 19.0, 18.9, 18.7, 11.7, 8.0, 12.0, 19.8, 19.9, 20.0, 20.1, 20.2, 20.3, 20.4, 20.6, 20.8, 20.9, 21.1, 21.3, 21.5, 21.7, 21.9, 22.2, 22.6, 22.7, 22.9, 23.0, 23.1, 23.2, 22.8, 22.4, 22.3, 22.1, 21.8, 21.6, 20.7, 18.2, 19.7, 20.5, 18.5, 21.0, 21.2, 21.4, 22.0, 7.1, 6.9, 6.7, 6.6, 6.4, 6.5]\n",
      "[9.3, 10.1, 10.7, 11.2, 11.4, 11.8, 12.2, 12.8, 13.3, 13.7, 13.8, 13.6, 13.2, 13.1, 13.4, 13.9, 14.1, 14.3, 14.6, 14.9, 15.1, 15.4, 15.5, 15.2, 14.8, 14.5, 14.7, 14.0, 12.9, 13.0, 12.4, 11.1, 10.9, 10.5, 10.2, 10.0, 9.8, 9.6, 9.4, 9.2, 9.0, 8.8, 8.7, 8.6, 8.5, 8.4, 9.5, 9.7, 9.9, 10.3, 10.4, 10.6, 11.3, 11.5, 11.6, 12.1, 12.3, 12.5, 12.7, 14.2, 14.4, 15.6, 15.9, 16.0, 16.3, 16.6, 16.1, 15.8, 17.1, 17.2, 17.0, 16.8, 16.2, 15.7, 15.3, 15.0, 12.6, 11.0, 10.8, 8.9, 8.3, 8.2, 9.1, 13.5, 16.4, 16.7, 16.9, 17.5, 17.7, 17.6, 17.4, 17.3, 16.5, 8.1, 7.9, 7.8, 7.7, 7.6, 7.4, 7.3, 7.2, 7.5, 11.9, 18.0, 18.3, 18.1, 17.8, 17.9, 18.4, 18.6, 18.8, 19.1, 19.3, 19.5, 19.6, 19.4, 19.2, 19.0, 18.9, 18.7, 11.7, 8.0, 12.0, 19.8, 19.9, 20.0, 20.1, 20.2, 20.3, 20.4, 20.6, 20.8, 20.9, 21.1, 21.3, 21.5, 21.7, 21.9, 22.2, 22.6, 22.7, 22.9, 23.0, 23.1, 23.2, 22.8, 22.4, 22.3, 22.1, 21.8, 21.6, 20.7, 18.2, 19.7, 20.5, 18.5, 21.0, 21.2, 21.4, 22.0, 6.4, 6.6, 7.0, 6.9, 5.2, 6.1, 6.2, 7.1, 5.9, 6.8, 4.8, 4.7, 3.8, 5.1, 6.7, 6.5]\n",
      "[9.7, 10.4, 11.0, 11.3, 11.6, 11.9, 12.4, 13.1, 13.5, 13.7, 13.8, 13.4, 13.2, 13.3, 13.6, 14.0, 14.2, 14.5, 14.8, 15.0, 15.3, 15.5, 15.6, 14.9, 14.7, 14.6, 15.1, 14.1, 13.9, 12.8, 12.9, 12.6, 12.2, 10.9, 10.8, 10.6, 10.3, 10.1, 9.9, 9.5, 9.4, 9.3, 9.1, 8.9, 8.8, 8.7, 8.6, 8.5, 9.2, 9.6, 9.8, 10.0, 10.2, 10.5, 10.7, 11.2, 11.4, 11.7, 12.0, 13.0, 14.3, 14.4, 15.7, 16.0, 16.1, 16.5, 16.7, 16.2, 16.3, 16.9, 17.2, 17.1, 16.8, 16.4, 15.9, 15.8, 15.4, 15.2, 12.7, 11.1, 8.4, 8.3, 8.2, 9.0, 16.6, 17.3, 17.6, 17.7, 17.5, 17.4, 17.0, 11.5, 8.1, 8.0, 7.9, 7.8, 7.7, 7.6, 7.5, 7.4, 7.3, 7.2, 12.1, 12.3, 12.5, 17.8, 18.2, 18.3, 17.9, 18.0, 18.6, 18.7, 18.9, 19.3, 19.4, 19.6, 19.7, 19.5, 19.2, 19.0, 18.8, 18.5, 11.8, 19.8, 20.0, 20.1, 20.2, 20.3, 20.4, 20.5, 20.7, 20.9, 21.0, 21.2, 21.4, 21.6, 21.8, 22.1, 22.4, 22.7, 22.8, 23.0, 23.1, 23.2, 22.9, 22.6, 22.5, 22.3, 22.2, 22.0, 21.7, 21.9, 21.1, 20.8, 18.4, 19.1, 18.1, 20.6, 19.9, 21.3, 7.0, 6.8, 6.7, 6.5, 6.6, 21.5]\n",
      "[9.1, 9.7, 10.4, 10.9, 11.3, 11.6, 12.0, 12.4, 13.1, 13.5, 13.7, 13.4, 13.0, 13.2, 13.3, 13.6, 13.8, 13.9, 14.2, 14.5, 14.8, 15.0, 15.3, 15.5, 14.9, 14.7, 14.6, 14.1, 12.8, 12.7, 12.9, 12.6, 12.2, 11.2, 10.8, 10.6, 10.3, 10.1, 9.9, 9.5, 9.4, 9.2, 8.9, 8.8, 8.7, 8.6, 8.5, 8.4, 9.6, 9.8, 10.0, 10.2, 10.5, 11.4, 11.7, 14.3, 14.4, 15.2, 15.7, 15.9, 16.1, 16.5, 16.2, 16.0, 16.3, 16.9, 17.1, 16.8, 16.7, 16.4, 15.8, 15.6, 15.4, 15.1, 11.9, 11.1, 10.7, 8.3, 8.2, 9.0, 9.3, 16.6, 17.2, 17.3, 17.6, 17.5, 17.4, 17.0, 11.5, 11.0, 8.1, 8.0, 7.9, 7.8, 7.7, 7.6, 7.4, 7.3, 7.2, 7.1, 12.1, 12.3, 12.5, 17.8, 18.2, 18.0, 18.6, 18.7, 18.9, 19.2, 19.4, 19.6, 19.5, 19.3, 19.0, 18.8, 18.5, 18.3, 11.8, 7.5, 17.7, 17.9, 14.0, 18.4, 19.7, 19.8, 20.0, 20.1, 20.3, 20.5, 20.7, 20.9, 21.0, 21.2, 21.4, 21.6, 21.8, 22.1, 22.4, 22.7, 22.8, 22.9, 23.0, 23.1, 22.6, 22.5, 22.3, 22.2, 22.0, 21.7, 21.1, 20.8, 20.2, 19.1, 18.1, 20.4, 20.6, 19.9, 21.3, 21.9, 7.0, 6.8, 6.6, 6.5, 6.3, 6.4]\n",
      "[55, 53, 52, 51, 50, 49, 48, 47, 43, 46, 54, 56, 57, 58, 59, 60, 61, 63, 64, 65, 66, 67, 68, 69, 70, 71, 73, 74, 76, 79, 80, 81, 82, 83, 84, 85, 86, 87, 88, 89, 78, 75, 72, 62, 77, 90, 45, 91, 92, 97, 98, 99, 94, 100, 96, 95]\n",
      "[0.8, 0.9, 1.3, 1.7, 2.1, 2.4, 2.6, 2.9, 3.1, 3.2, 3.3, 2.7, 2.8, 3.4, 3.5, 3.7, 4.2, 3.9, 4.0, 4.6, 3.0, 3.6, 3.8, 5.2, 4.8, 4.9, 4.4, 4.7, 5.4, 5.0, 4.3, 4.1, 5.6, 5.8, 6.2, 6.4, 6.6, 6.8, 6.9, 7.1, 7.3, 7.4, 7.6, 7.8, 7.9, 8.1, 8.2, 8.3, 8.4, 8.5, 8.6, 8.7, 7.7, 7.5, 8.8, 9.1, 8.9, 9.0, 8.0, 7.2, 6.7, 6.5, 6.3, 6.0, 5.9, 5.7, 5.5, 5.3, 6.1, 7.0, 9.3, 9.4, 9.2, 5.1, 9.5, 9.8, 10.0, 10.1, 10.2, 10.4, 10.5, 10.7, 11.1, 10.9, 10.6, 10.8, 11.2, 11.0, 11.6, 11.4, 11.5, 11.3, 10.3, 4.5, 9.6, 9.7, 9.9, 11.9, 12.2, 12.4, 12.3, 12.6, 12.7, 12.8, 12.9, 13.1, 13.3, 13.5, 13.7, 13.6, 14.0, 14.2, 14.1, 14.3, 14.4, 13.4, 13.2, 12.1, 11.8, 11.7, 12.0, 12.5, 13.0, 13.9, 14.5, 13.8, 14.6, 14.8, 15.1, 15.3, 15.6, 15.5, 15.4, 15.8, 15.0, 14.7, 14.9, 15.2, 16.2, 16.3, 16.5, 16.6, 16.4, 15.7]\n",
      "[1, 2, 3, 4, 0, 5, 6, 7, 9, 8, 10, 12, 11]\n",
      "[7, 5, 3, 6, 4, 8, 10, 11, 9, 2, 0, 1, 12, 15, 14, 17, 13, 18, 20, 16, 24, 19, 21, 28, 27, 25, 34, 26, 23, 22]\n",
      "['NNW', 'NE', 'E', 'S', 'SE', 'WNW', 'SSW', 'SW', 'W', 'NNE', 'N', 'WSW', 'ESE', 'NW', 'ENE', '---', 'SSE']\n",
      "[0.0, 0.2, 0.4, 1.0, 0.6, 0.8, 1.4]\n",
      "[1015.4, 1015.3, 1015.2, 1015.1, 1015.0, 1014.9, 1014.8, 1014.7, 1014.6, 1014.4, 1014.5, 1014.3, 1014.2, 1014.1, 1013.9, 1014.0, 1013.8, 1013.6, 1013.5, 1013.7, 1013.4, 1013.2, 1013.3, 1015.5, 1015.6, 1015.7, 1015.9, 1016.0, 1016.2, 1016.4, 1016.5, 1016.7, 1016.8, 1016.6, 1016.9, 1016.3, 1017.0, 1017.1, 1017.2, 1017.3, 1017.4, 1017.5, 1017.7, 1017.8, 1017.9, 1018.1, 1018.3, 1018.5, 1018.4, 1018.2, 1018.0, 1018.7, 1018.6, 1017.6, 1016.1, 1015.8, 1013.1, 1012.9, 1012.8, 1012.6, 1012.4, 1012.3, 1012.1, 1012.0, 1011.9, 1011.8, 1011.7, 1011.6, 1011.5, 1011.4, 1011.3, 1011.0, 1010.9, 1010.8, 1011.1, 1011.2, 1010.7, 1010.6, 1010.5, 1010.4, 1010.3, 1010.2, 1010.1, 1010.0, 1009.9, 1009.8, 1009.7, 1009.6, 1009.4, 1009.3, 1009.2, 1009.1, 1009.0, 1008.8, 1008.9, 1008.7, 1008.4, 1008.5, 1008.2, 1008.1, 1007.9, 1007.8, 1007.6, 1007.5, 1007.4, 1007.2, 1007.0, 1006.9, 1006.8, 1006.5, 1006.6, 1006.4, 1006.2, 1006.1, 1006.0, 1005.9, 1005.8, 1005.6, 1005.7, 1006.3, 1006.7, 1007.3, 1007.1, 1007.7, 1008.0, 1008.3, 1008.6, 1005.5, 1005.4, 1005.3, 1005.2, 1005.1, 1004.9, 1004.7, 1004.6, 1004.5, 1004.4, 1004.3, 1004.1, 1003.9, 1003.7, 1003.4, 1003.3, 1003.2, 1003.5, 1003.1, 1002.8, 1003.0, 1002.7, 1002.6, 1002.5, 1002.4, 1002.2, 1002.3, 1002.9, 1003.6, 1003.8, 1004.0, 1004.2, 1004.8, 1005.0, 1009.5, 1012.2, 1012.5, 1013.0, 1012.7, 1002.1, 1002.0, 1001.9, 1001.8, 1001.7, 1001.6, 1001.5, 1001.4, 1001.3, 1001.2, 1000.9, 1001.0, 1000.7, 1000.8, 1000.6, 1000.5, 1000.4, 1000.3, 1000.2, 1000.0, 999.9, 999.7, 999.5, 999.4, 999.3, 999.1, 999.0, 998.9, 998.7, 998.8, 998.6, 998.5, 998.4, 998.3, 998.2, 998.1, 998.0, 997.9, 997.8, 997.7, 997.6, 997.5, 997.4, 997.3, 997.2, 997.0, 996.8, 996.9, 996.6, 996.4, 996.3, 996.2, 996.0, 995.9, 995.8, 995.7, 995.6, 995.5, 995.4, 995.2, 995.1, 995.0, 994.8, 994.7, 994.5, 994.4, 994.2, 993.9, 993.8, 993.7, 993.6, 993.5, 993.4, 993.2, 993.1, 992.9, 993.0, 992.8, 992.7, 992.6, 992.5, 992.4, 992.3, 992.2, 992.1, 992.0, 991.9, 991.7, 991.5, 991.3, 991.0, 990.9, 990.8, 990.6, 990.5, 990.4, 990.3, 990.1, 989.9, 989.7, 989.6, 989.5, 989.4, 989.1, 989.0, 988.9, 988.8, 988.7, 988.6, 988.5, 988.4, 988.3, 989.3, 990.0, 990.7, 991.1, 991.2, 991.4, 991.6, 991.8, 993.3, 994.0, 994.3, 994.6, 994.9, 996.5, 996.7, 997.1, 996.1, 995.3, 994.1, 988.0, 987.6, 987.4, 987.1, 986.8, 986.5, 986.0, 985.8, 985.4, 985.3, 984.9, 984.5, 984.2, 984.1, 983.8, 983.6, 983.3, 983.0, 982.8, 982.7, 983.2, 983.4, 983.7, 983.5, 983.9, 984.0, 984.3, 984.4, 984.6, 982.9, 983.1, 982.6, 982.5, 982.1, 982.0, 981.9, 981.5, 981.2, 981.3, 981.0, 981.1, 980.9, 980.8, 980.7, 980.6, 981.4, 982.3, 982.4, 984.7, 984.8, 985.0, 985.1, 985.2, 985.5, 985.7, 986.2, 986.3, 986.4, 986.6, 986.7, 986.9, 987.2, 987.3, 987.5, 987.9, 988.1, 988.2, 989.8, 999.2, 999.6, 999.8, 1001.1]\n",
      "[21.7, 21.9, 22.1, 22.2, 22.3, 22.4, 22.5, 22.6, 22.7, 23.0, 23.2, 23.4, 23.5, 23.6, 23.7, 23.8, 23.9, 24.0, 23.3, 22.9, 22.8, 23.1, 22.0, 21.8, 21.6, 21.5, 21.4, 21.3, 21.2, 21.1, 21.0, 20.9, 20.8, 20.7, 20.6, 20.5, 20.4, 20.3, 24.1, 24.3, 24.6, 24.7, 24.8, 24.9, 25.1, 24.5, 24.4, 24.2, 25.0, 25.2, 25.3, 20.1, 20.0, 19.9, 19.7, 19.6, 19.8, 20.2, 19.4, 19.3, 19.1, 18.9, 18.7, 19.2, 19.0, 18.8, 18.5, 18.6, 18.4, 18.3, 18.2, 18.1, 18.0, 17.9, 19.5]\n",
      "[38, 39, 37, 36, 35, 40, 41, 42, 43, 44, 46, 45, 47, 48, 49, 50, 51, 53, 54, 55, 52, 56, 58, 57, 59, 60, 61]\n",
      "[10]\n"
     ]
    }
   ],
   "source": [
    "#Task 1-i: Display all the unique values for each column.\n",
    "print(\"Task 1-i: The unique values for each column are:\")\n",
    "for i in df_data:\n",
    "    print( df_data[i].unique().tolist())"
   ]
  },
  {
   "cell_type": "markdown",
   "id": "ec5cb345",
   "metadata": {},
   "source": [
    "# Task 2: Aggregation & Filtering & Rank\n",
    "In this task, we will perform some very high level aggregation and filtering operations. \n",
    "Then, we will apply ranking on the results for some tasks. \n",
    "Pandas has a convenient and powerful syntax for aggregation, filtering, and ranking. \n",
    "DO NOT write a for loop. Pandas has built-in functions for all tasks. "
   ]
  },
  {
   "cell_type": "code",
   "execution_count": 112,
   "id": "1b62a87b",
   "metadata": {},
   "outputs": [
    {
     "name": "stdout",
     "output_type": "stream",
     "text": [
      "   Date  max_temp\n",
      "0     5  14:40:00\n",
      "1     6  13:38:00\n",
      "2     7  08:50:00\n"
     ]
    },
    {
     "name": "stderr",
     "output_type": "stream",
     "text": [
      "C:\\Users\\hpash\\AppData\\Local\\Temp/ipykernel_13916/1770828238.py:14: SettingWithCopyWarning: \n",
      "A value is trying to be set on a copy of a slice from a DataFrame.\n",
      "Try using .loc[row_indexer,col_indexer] = value instead\n",
      "\n",
      "See the caveats in the documentation: https://pandas.pydata.org/pandas-docs/stable/user_guide/indexing.html#returning-a-view-versus-a-copy\n",
      "  var['Time'] = pd.to_datetime(var['Time'], format ='%H:%M')\n"
     ]
    }
   ],
   "source": [
    "# 20 points\n",
    "# Task 2-A: Generate a Outside_Temperature.txt file containing the answers to the following questions: \n",
    "# Using the “Outside Temperature” values: \n",
    "# a. What is the average time of hottest daily temperature (over month); \n",
    "# lets find the max temperature for every day\n",
    "x=df_data.groupby('Date')['Outside Temperature'].max()\n",
    "#lets name the o/p coloumn as max_temp \n",
    "a=x.reset_index(name='max_temp') \n",
    "#lets get the other variables of max_temp values from the table\n",
    "b=a.merge(df_data,how='left',left_on=['max_temp','Date'],right_on=['Outside Temperature','Date'])\n",
    "# lets get the variable that we need for solving these problem as date time and temp\n",
    "var = b[['Date','Time','max_temp']]\n",
    "# lets get the format of month and date\n",
    "var['Time'] = pd.to_datetime(var['Time'], format ='%H:%M')\n",
    "var.index = pd.to_datetime(var['Date'], format ='%d/%m/%Y')\n",
    "#average time of hottest daily temperature\n",
    "c = var.groupby(var.index.month)['Time'].mean()\n",
    "avg_temp=c.dt.time.reset_index(name='max_temp')\n",
    "print(avg_temp[['Date','max_temp']])\n",
    "with open('Outside_Temperature.txt','w+') as f:\n",
    "     f.write('Month \\t max_Temp_Time \\n')\n",
    "     for index, row in avg_temp.iterrows():\n",
    "         row_data=[str(row['Date']),'\\t\\t',str(row['max_temp']),'\\n']\n",
    "         f.writelines(row_data)\n",
    "     f.close()"
   ]
  },
  {
   "cell_type": "code",
   "execution_count": 113,
   "id": "8bd06a53",
   "metadata": {},
   "outputs": [
    {
     "name": "stdout",
     "output_type": "stream",
     "text": [
      "13    13:00\n",
      "23    14:40\n",
      "24    14:50\n",
      "25    15:00\n",
      "Name: Time, dtype: object\n"
     ]
    }
   ],
   "source": [
    "# b. What time of the day is the most commonly occurring hottest time;\n",
    "x=df_data.groupby('Date')['Outside Temperature'].max()\n",
    "a=x.reset_index(name='max_temp')\n",
    "b=a.merge(df_data,how='left',left_on=['max_temp','Date'],right_on=['Outside Temperature','Date'])\n",
    "var = b[['Date','Time','max_temp']]\n",
    "c=var.groupby('Time',as_index = False).size()\n",
    "H=c['Time'].where(c['size']== max(c['size'])).dropna()\n",
    "print(H)\n",
    "with open('Outside_Temperature.txt','a') as f:\n",
    "     f.write('2-A(b) time of the day is the most commonly occurring hottest time \\n')\n",
    "     for row in H:\n",
    "         row_data=[str(row),'\\t']\n",
    "         f.writelines(row_data)\n",
    "     f.close()"
   ]
  },
  {
   "cell_type": "code",
   "execution_count": 114,
   "id": "f1ccd8d3",
   "metadata": {},
   "outputs": [
    {
     "name": "stdout",
     "output_type": "stream",
     "text": [
      "             Time  max_temp\n",
      "Date                       \n",
      "10/6/2006   13:10      19.9\n",
      "11/6/2006   11:20      22.4\n",
      "12/6/2006   15:00      19.4\n",
      "15/06/2006  14:00      21.1\n",
      "17/06/2006  14:50      18.9\n",
      "28/06/2006  10:50      21.4\n",
      "3/6/2006    15:00      19.6\n",
      "6/6/2006    14:20      23.2\n",
      "7/6/2006    13:00      19.6\n",
      "8/6/2006    16:50      20.7\n"
     ]
    }
   ],
   "source": [
    "# c. Which are the Top Ten hottest times on distinct days, preferably sorted by date order.\n",
    "x=df_data.groupby('Date')['Outside Temperature'].max()\n",
    "a=x.reset_index(name='max_temp')\n",
    "b=a.merge(df_data,how='left',left_on=['max_temp','Date'],right_on=['Outside Temperature','Date'])\n",
    "var = b[['Date','Time','max_temp']]\n",
    "var= var.groupby('Date').max()\n",
    "var=var.sort_values(by='max_temp',ascending=False).head(10)\n",
    "var=var.sort_values(by='Date')\n",
    "print(var)\n",
    "with open('Outside_Temperature.txt','a') as f:\n",
    "     f.write('2-A(c) the Top Ten hottest times on distinct days, preferably sorted by date order')\n",
    "     f.write('Date \\t\\t time \\t max_Temp \\n')   \n",
    "     for index, row in var.iterrows():\n",
    "         row_data=[str(index),'\\t',str(row[0]),'\\t\\t\\t',str(row[1]),'\\n']\n",
    "         f.writelines(row_data)\n",
    "     f.close()\n",
    "\n",
    "\n",
    "# a= df_data.sort_values(by=['Date','Outside Temperature'],ascending=True)\n",
    "# b=a.groupby(['Date','Time'])['Outside Temperature'].max()\n",
    "# print(b)\n",
    "# print(b.nlargest(10))\n",
    "# df_data.groupby(['Date','Time'])['Outside Temperature'].describe()"
   ]
  },
  {
   "cell_type": "code",
   "execution_count": 115,
   "id": "e1ef29be",
   "metadata": {
    "scrolled": false
   },
   "outputs": [
    {
     "name": "stdout",
     "output_type": "stream",
     "text": [
      "         Date   Time  Hi Temperature  Low Temperature\n",
      "885  6/6/2006  12:30            21.4             21.2\n",
      "886  6/6/2006  12:40            21.6             21.4\n",
      "887  6/6/2006  12:50            21.8             21.6\n",
      "888  6/6/2006  13:00            22.1             21.8\n",
      "889  6/6/2006  13:10            22.4             22.1\n",
      "890  6/6/2006  13:20            22.7             22.4\n",
      "891  6/6/2006  13:30            22.8             22.7\n",
      "892  6/6/2006  13:40            23.0             22.8\n",
      "893  6/6/2006  13:50            23.0             22.9\n",
      "894  6/6/2006  14:00            23.1             23.0\n",
      "895  6/6/2006  14:10            23.2             23.1\n",
      "896  6/6/2006  14:20            23.2             23.1\n",
      "897  6/6/2006  14:30            23.2             23.1\n",
      "898  6/6/2006  14:40            23.1             22.9\n",
      "899  6/6/2006  14:50            22.9             22.9\n",
      "900  6/6/2006  15:00            22.9             22.9\n",
      "901  6/6/2006  15:10            22.9             22.7\n",
      "902  6/6/2006  15:20            22.7             22.7\n",
      "903  6/6/2006  15:30            22.7             22.7\n",
      "904  6/6/2006  15:40            22.7             22.6\n",
      "905  6/6/2006  15:50            22.6             22.5\n",
      "906  6/6/2006  16:00            22.5             22.4\n",
      "907  6/6/2006  16:10            22.4             22.3\n",
      "908  6/6/2006  16:20            22.3             22.2\n",
      "909  6/6/2006  16:30            22.3             22.2\n",
      "910  6/6/2006  16:40            22.3             22.2\n",
      "911  6/6/2006  16:50            22.2             22.0\n",
      "912  6/6/2006  17:00            22.0             21.8\n",
      "913  6/6/2006  17:10            21.8             21.8\n",
      "914  6/6/2006  17:20            21.8             21.8\n",
      "915  6/6/2006  17:30            21.8             21.7\n",
      "916  6/6/2006  17:40            21.7             21.6\n",
      "917  6/6/2006  17:50            21.7             21.6\n",
      "918  6/6/2006  18:00            21.9             21.7\n",
      "919  6/6/2006  18:10            21.9             21.7\n",
      "920  6/6/2006  18:20            21.7             21.4\n",
      "921  6/6/2006  18:30            21.4             21.1\n"
     ]
    }
   ],
   "source": [
    "# 20 points\n",
    "#Task 2-B: Using the ‘Hi Temperature’ values produce a “Hi_Temperature.txt” file containing all of the Dates and Times\n",
    "# where the “Hi Temperature” was within +/- 1 degree of 22.3 or \n",
    "# the “Low Temperature” was within +/- 0.2 degree higher or lower of 10.3 over the first 9 days of June\n",
    "# required or high and low temperatures of june with date and time\n",
    "a = df_data[['Date','Time','Hi Temperature','Low Temperature']]\n",
    "a_jun = a[pd.to_datetime(a['Date'],format='%d/%m/%Y').dt.month == 6]\n",
    "f9_days = a_jun['Date'].unique()[:9] \n",
    "#print (f9_days)\n",
    "a_jun = a_jun.loc[a_jun['Date'].isin(f9_days)]\n",
    "#print(a_jun)\n",
    "a_jun_condition = a_jun.loc[((a_jun['Hi Temperature']>= 21.3) & (a_jun['Hi Temperature']<= 23.3))]\n",
    "print(a_jun_condition)\n",
    "with open('Hi Temperature.txt','w') as f:\n",
    "     f.write('Task 2 - B')\n",
    "     f.write('Date \\t\\t\\t Time \\t Hi temp \\t low temp \\n')\n",
    "     for index, row in a_jun_condition.iterrows():\n",
    "         row_data=[str(row[0]),'\\t\\t',str(row[1]),'\\t\\t',str(row[2]),'\\t\\t\\t',str(row[3]),'\\n']\n",
    "         f.writelines(row_data)\n",
    "     f.close()"
   ]
  },
  {
   "cell_type": "markdown",
   "id": "5f930e6d",
   "metadata": {},
   "source": [
    "# Task 3: Visualization\n",
    "In this task, you will perform a number of visualization tasks to get some intuition about the data. Visualization is a key component of exploration. You can choose to use either Matplotlib or Seaborn for plotting. The default figures generated from Matplotlib might look a bit ugly. So you might want to try Seaborn to get better figures. Seaborn has a variety of styles. Feel free to experiment with them and choose the one you like. We have earmarked 10 points for the aesthetics of your visualizations."
   ]
  },
  {
   "cell_type": "code",
   "execution_count": 128,
   "id": "50ce3127",
   "metadata": {
    "scrolled": true
   },
   "outputs": [
    {
     "name": "stdout",
     "output_type": "stream",
     "text": [
      "Date\n",
      "5    11.950000\n",
      "6    13.643806\n",
      "7    11.605556\n",
      "Name: Outside Temperature, dtype: float64\n"
     ]
    },
    {
     "data": {
      "text/plain": [
       "[Text(0.5, 0, 'Outside Temperature'), Text(0, 0.5, 'average')]"
      ]
     },
     "execution_count": 128,
     "metadata": {},
     "output_type": "execute_result"
    },
    {
     "data": {
      "image/png": "[encoded data removed]",
      "text/plain": [
       "<Figure size 1800x720 with 1 Axes>"
      ]
     },
     "metadata": {},
     "output_type": "display_data"
    }
   ],
   "source": [
    "# 5 points\n",
    "# Task 3-a: Visulalize the temperature for each month  \n",
    "# Think of a way to nicely visualize all the temperature and provide detailed explaination \n",
    "#########################begin code for Task 3-a\n",
    "\n",
    "sns.set_style('whitegrid')\n",
    "sns.set(font_scale = 1.3)\n",
    "plt.figure(figsize=(25,10))\n",
    "dt_month= df_data\n",
    "dt_month.index= pd.to_datetime(dt_month['Date'],format='%d/%m/%Y')\n",
    "dt_month=dt_month.groupby(dt_month.index.month).mean()\n",
    "print(dt_month['Outside Temperature'])\n",
    "plot=sns.countplot(x='Outside Temperature', data=dt_month)\n",
    "plot.set(xlabel='Outside Temperature',ylabel='average')\n",
    "\n",
    "#df_data['month']=pd.DatetimeIndex(df_data['Date']).month\n",
    "#a_month = df_data['month']\n",
    "#outside = df_data['Outside Temperature']\n",
    "#d_frame=[a_month,outside]\n",
    "#result = pd.concat(d_frame, axis=1, join='inner')\n",
    "#r2 = result.groupby(df_data['month']).mean()\n",
    "#print(r2)\n",
    "#r2.plot(x='month',y='Outside Temperature')\n",
    "\n",
    "#########################end code for Task 3-a"
   ]
  },
  {
   "cell_type": "code",
   "execution_count": 61,
   "id": "682d5ed5",
   "metadata": {},
   "outputs": [
    {
     "name": "stdout",
     "output_type": "stream",
     "text": [
      "         Date   Time  Outside Temperature\n",
      "90   1/6/2006   0:00                  9.6\n",
      "91   1/6/2006   0:10                  9.5\n",
      "92   1/6/2006   0:20                  9.5\n",
      "93   1/6/2006   0:30                  9.5\n",
      "94   1/6/2006   0:40                  9.5\n",
      "..        ...    ...                  ...\n",
      "805  5/6/2006  23:10                 10.9\n",
      "806  5/6/2006  23:20                 10.8\n",
      "807  5/6/2006  23:30                 10.7\n",
      "808  5/6/2006  23:40                 10.6\n",
      "809  5/6/2006  23:50                 10.5\n",
      "\n",
      "[720 rows x 3 columns]\n",
      "          Date  Time  Outside Temperature\n",
      "4409  1/7/2006  0:00                 11.6\n",
      "4410  1/7/2006  0:10                 11.4\n",
      "4411  1/7/2006  0:20                 11.4\n",
      "4412  1/7/2006  0:30                 11.3\n",
      "4413  1/7/2006  0:40                 11.2\n",
      "4414  1/7/2006  0:50                 11.0\n",
      "4415  1/7/2006  1:00                 10.8\n",
      "4416  1/7/2006  1:10                 10.6\n",
      "4417  1/7/2006  1:20                 10.4\n",
      "4418  1/7/2006  1:30                 10.3\n",
      "4419  1/7/2006  1:40                 10.2\n",
      "4420  1/7/2006  1:50                 10.1\n",
      "4421  1/7/2006  2:00                 10.1\n",
      "4422  1/7/2006  2:10                 10.1\n",
      "4423  1/7/2006  2:20                 10.2\n",
      "4424  1/7/2006  2:30                 10.2\n",
      "4425  1/7/2006  2:40                 10.1\n",
      "4426  1/7/2006  2:50                 10.1\n",
      "4427  1/7/2006  3:00                 10.1\n",
      "4428  1/7/2006  3:10                 10.1\n",
      "4429  1/7/2006  3:20                  9.9\n",
      "4430  1/7/2006  3:30                  9.8\n",
      "4431  1/7/2006  3:40                  9.6\n",
      "4432  1/7/2006  3:50                  9.6\n",
      "4433  1/7/2006  4:00                  9.7\n",
      "4434  1/7/2006  4:10                  9.8\n",
      "4435  1/7/2006  4:20                  9.9\n",
      "4436  1/7/2006  4:30                 10.1\n",
      "4437  1/7/2006  4:40                 10.3\n",
      "4438  1/7/2006  4:50                 10.5\n",
      "4439  1/7/2006  5:00                 10.7\n",
      "4440  1/7/2006  5:10                 10.9\n",
      "4441  1/7/2006  5:20                 11.0\n",
      "4442  1/7/2006  5:30                 11.3\n",
      "4443  1/7/2006  5:40                 11.6\n",
      "4444  1/7/2006  5:50                 11.7\n",
      "4445  1/7/2006  6:00                 11.9\n",
      "4446  1/7/2006  6:10                 12.2\n",
      "4447  1/7/2006  6:20                 12.6\n",
      "4448  1/7/2006  6:30                 12.8\n",
      "4449  1/7/2006  6:40                 12.8\n",
      "4450  1/7/2006  6:50                 13.0\n",
      "4451  1/7/2006  7:00                 13.3\n",
      "4452  1/7/2006  7:10                 13.6\n",
      "4453  1/7/2006  7:20                 13.8\n",
      "4454  1/7/2006  7:30                 13.9\n",
      "4455  1/7/2006  7:40                 14.1\n",
      "4456  1/7/2006  7:50                 14.3\n",
      "4457  1/7/2006  8:00                 14.4\n",
      "4458  1/7/2006  8:10                 14.6\n",
      "4459  1/7/2006  8:20                 14.8\n",
      "4460  1/7/2006  8:30                 15.3\n",
      "4461  1/7/2006  8:40                 15.6\n",
      "4462  1/7/2006  8:50                 16.0\n"
     ]
    }
   ],
   "source": [
    "# 15 points\n",
    "# Task 3-b: Display the time period on a bar plot which has highest temperature for the first 5 days of every month\n",
    "# provide detailed explaination \n",
    "#########################begin code for Task 3-b \n",
    "a = df_data[['Date','Time','Outside Temperature']]\n",
    "a_jun = a[pd.to_datetime(a['Date'],format='%d/%m/%Y').dt.month == 6]\n",
    "a_jul = a[pd.to_datetime(a['Date'],format='%d/%m/%Y').dt.month == 7]\n",
    "f9_jundays= a_jun['Date'].unique()[:5]\n",
    "f9_juldays = a_jul['Date'].unique()[:5]\n",
    "#print(f9_jundays)\n",
    "#print(f9_juldays)\n",
    "a_jun = a_jun.loc[a_jun['Date'].isin(f9_jundays)]\n",
    "a_jul = a_jul.loc[a_jul['Date'].isin(f9_juldays)]\n",
    "a_jun.groupby('Date')\n",
    "print(a_jun)\n",
    "print(a_jul)\n",
    "var['Time'] = pd.to_datetime(var['Time'], format ='%H:%M')\n",
    "var.index = pd.to_datetime(var['Date'], format ='%d/%m/%Y')\n",
    "\n",
    "# a=df_data.groupby('Date')['Outside Temperature'].max()\n",
    "# print(a)\n",
    "# a=(df_data.groupby('Date')['Outside Temperature'].max()[6]).value_counts().values\n",
    "# labels=df_data('Time').value_counts().index()\n",
    "# plt.figure(figsize=(25,25))\n",
    "# plt.bar(a,labels=labels)\n",
    "# plt.xlabel('a')\n",
    "# plt.xlabel('labels')\n",
    "# plt.show()\n",
    "\n",
    "#########################end code for Task 3-b"
   ]
  },
  {
   "cell_type": "markdown",
   "id": "dd033d5e",
   "metadata": {},
   "source": [
    "# Task 4: \n",
    "Find out an 'interesting' information from the dataset. Create two visualization for it and explain in a 4 to 5 lines your valid reasoning. Do not copy paste from another team member.\n",
    "This task is worth 20 points. Your result will be judged based on the uniqueness and quality of your work (having a meaningful result and an aesthetic visualization). "
   ]
  },
  {
   "cell_type": "code",
   "execution_count": 141,
   "id": "5f4cc929",
   "metadata": {},
   "outputs": [
    {
     "data": {
      "image/png": "[encoded data removed]",
      "text/plain": [
       "<Figure size 1800x720 with 1 Axes>"
      ]
     },
     "metadata": {},
     "output_type": "display_data"
    },
    {
     "data": {
      "image/png": "[encoded data removed]",
      "text/plain": [
       "<Figure size 504x504 with 3 Axes>"
      ]
     },
     "metadata": {},
     "output_type": "display_data"
    }
   ],
   "source": [
    "#########################begin code for Task 4\n",
    "# plot the daily temeperature change\n",
    "avg_day= df_data.groupby('Date')['Outside Temperature'].mean().reset_index(name='Avg temp')\n",
    "fig, ax1 = plt.subplots(figsize=(25, 10))\n",
    "plot=sns.barplot(x=\"Date\",y=\"Avg temp\", data= avg_day)\n",
    "plot.set(xlabel='days number in year', ylabel='Average outside temperature')\n",
    "sns.despine(fig)\n",
    "###plot avg temp for outside temperature (joint plot) ######\n",
    "\n",
    "sns.set_theme(style=\"whitegrid\")\n",
    "\n",
    "s = sns.jointplot(x=\"Date\",y=\"Avg temp\", data= avg_day,xlim=(20,30), ylim=(0,15),color=\"y\", height=7)\n",
    "\n",
    "#########################end code for Task 4"
   ]
  },
  {
   "cell_type": "markdown",
   "id": "a8b14924",
   "metadata": {},
   "source": [
    "## Report for Python\n",
    "Report Explanation\n",
    "Create a report in a pdf file explaining the answer for task 2, 3 and 4<br>\n",
    "Note: the more detailed explanation the better"
   ]
  },
  {
   "cell_type": "markdown",
   "id": "209c8bde",
   "metadata": {},
   "source": [
    "## Rubricks\n",
    "\n",
    "Task 1: 8 points<br>\n",
    "Task 2: 40 points<br>\n",
    "Task 3: 20 points<br>\n",
    "Task 4: 20 points<br>\n",
    "Report : 12 points<br>\n",
    "------------------------------------\n",
    "Total : 100 points<br>"
   ]
  }
 ],
 "metadata": {
  "kernelspec": {
   "display_name": "Python 3 (ipykernel)",
   "language": "python",
   "name": "python3"
  },
  "language_info": {
   "codemirror_mode": {
    "name": "ipython",
    "version": 3
   },
   "file_extension": ".py",
   "mimetype": "text/x-python",
   "name": "python",
   "nbconvert_exporter": "python",
   "pygments_lexer": "ipython3",
   "version": "3.9.7"
  }
 },
 "nbformat": 4,
 "nbformat_minor": 5
}
